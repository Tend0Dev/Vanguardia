{
 "cells": [
  {
   "cell_type": "markdown",
   "metadata": {},
   "source": [
    "# importaciones"
   ]
  },
  {
   "cell_type": "code",
   "execution_count": 10,
   "metadata": {},
   "outputs": [],
   "source": [
    "import pandas as pd\n",
    "from statsmodels.formula.api import ols\n",
    "import statsmodels.api as sm\n",
    "from scipy.stats import chi2_contingency\n",
    "\n",
    "# Cargar los datos\n",
    "data = pd.read_csv('flights.csv')"
   ]
  },
  {
   "cell_type": "markdown",
   "metadata": {},
   "source": [
    "# Hipótesis 1:\n",
    "H0: No hay diferencia significativa en los retrasos de salida (DepDelay) entre las diferentes aerolíneas (Carrier).\n",
    "\n",
    "H1: Hay una diferencia significativa en los retrasos de salida (DepDelay) entre las diferentes aerolíneas (Carrier)."
   ]
  },
  {
   "cell_type": "code",
   "execution_count": 11,
   "metadata": {},
   "outputs": [
    {
     "name": "stdout",
     "output_type": "stream",
     "text": [
      "ANOVA Resultados - Hipótesis 1 (DepDelay vs Carrier):\n",
      "                  sum_sq        df           F  PR(>F)\n",
      "C(Carrier)  3.063989e+06      15.0  161.933829     0.0\n",
      "Residual    3.430093e+08  271924.0         NaN     NaN\n"
     ]
    }
   ],
   "source": [
    "# ANOVA entre el retraso de salida (DepDelay) y las aerolíneas (Carrier)\n",
    "modelo_anova_dep = ols('DepDelay ~ C(Carrier)', data=data).fit()\n",
    "tabla_anova_dep = sm.stats.anova_lm(modelo_anova_dep, typ=2)\n",
    "\n",
    "# Imprimir los resultados de ANOVA de manera más clara\n",
    "print(\"ANOVA Resultados - Hipótesis 1 (DepDelay vs Carrier):\")\n",
    "print(tabla_anova_dep)"
   ]
  },
  {
   "cell_type": "markdown",
   "metadata": {},
   "source": [
    "H0: No hay diferencia significativa en los retrasos de salida (DepDelay) entre las diferentes aerolíneas (Carrier).\n",
    "\n",
    "Resultados de ANOVA:\n",
    "\n",
    "F: 161.93\n",
    "p-value (PR(>F)): 0.0 (esto indica que el valor p es extremadamente pequeño, prácticamente cero)\n",
    "Interpretación:\n",
    "\n",
    "El valor p es significativamente menor a 0.05, lo que indica que hay diferencias significativas en los retrasos de salida entre las diferentes aerolíneas.\n",
    "Por lo tanto, rechazamos la hipótesis nula (H0) y concluimos que el retraso en la salida depende de la aerolínea."
   ]
  },
  {
   "cell_type": "markdown",
   "metadata": {},
   "source": [
    "# Hipótesis 2:\n",
    "H0: No hay diferencia significativa en el retraso promedio de llegada (ArrDelay) entre los aeropuertos de origen (OriginAirportID).\n",
    "H1: Hay una diferencia significativa en el retraso promedio de llegada (ArrDelay) entre los aeropuertos de origen (OriginAirportID).\n",
    "\n",
    "Estadístico de prueba: t-Student para dos grupos de aeropuertos principales (o prueba ANOVA si son múltiples grupos)"
   ]
  },
  {
   "cell_type": "code",
   "execution_count": 12,
   "metadata": {},
   "outputs": [
    {
     "name": "stdout",
     "output_type": "stream",
     "text": [
      "ANOVA Resultados - Hipótesis 2 (ArrDelay vs OriginAirportID):\n",
      "                          sum_sq        df          F         PR(>F)\n",
      "C(OriginAirportID)  1.782871e+06      69.0  17.754031  1.630862e-210\n",
      "Residual            3.956718e+08  271870.0        NaN            NaN\n"
     ]
    }
   ],
   "source": [
    "# ANOVA entre el retraso de llegada (ArrDelay) y el ID del aeropuerto de origen (OriginAirportID)\n",
    "modelo_anova = ols('ArrDelay ~ C(OriginAirportID)', data=data).fit()\n",
    "tabla_anova = sm.stats.anova_lm(modelo_anova, typ=2)\n",
    "\n",
    "# Imprimir los resultados de ANOVA de manera más clara\n",
    "print(\"ANOVA Resultados - Hipótesis 2 (ArrDelay vs OriginAirportID):\")\n",
    "print(tabla_anova)"
   ]
  },
  {
   "cell_type": "markdown",
   "metadata": {},
   "source": [
    "H0: No hay diferencia significativa en el retraso promedio de llegada (ArrDelay) entre los aeropuertos de origen (OriginAirportID).\n",
    "\n",
    "Resultados de ANOVA:\n",
    "\n",
    "F: 17.75\n",
    "p-value: 1.63e-210 (esto es un valor extremadamente pequeño, cercano a 0)\n",
    "Interpretación:\n",
    "\n",
    "Nuevamente, el valor p es mucho menor a 0.05, lo que indica que hay diferencias significativas en los retrasos de llegada entre los diferentes aeropuertos de origen.\n",
    "Por lo tanto, rechazamos la hipótesis nula (H0) y concluimos que el retraso promedio de llegada varía significativamente según el aeropuerto de origen."
   ]
  },
  {
   "cell_type": "markdown",
   "metadata": {},
   "source": [
    "# Hipótesis 3:\n",
    "H0: El porcentaje de vuelos cancelados (Cancelled) es independiente del mes del año (Month).\n",
    "H1: El porcentaje de vuelos cancelados (Cancelled) depende del mes del año (Month).\n",
    "\n",
    "Estadístico de prueba: Chi-Cuadrada"
   ]
  },
  {
   "cell_type": "code",
   "execution_count": 13,
   "metadata": {},
   "outputs": [
    {
     "name": "stdout",
     "output_type": "stream",
     "text": [
      "Chi-Cuadrada - Hipótesis 3 (Month vs Cancelled):\n",
      "Chi2: 416.2613664622779\n",
      "p-value: 8.908574264959884e-87\n",
      "Grados de libertad: 6\n",
      "Frecuencias esperadas:\n",
      " [[37898.21437082   410.78562918]\n",
      " [38781.63877326   420.36122674]\n",
      " [38860.78093697   421.21906303]\n",
      " [40410.97806869   438.02193131]\n",
      " [39532.50005148   428.49994852]\n",
      " [35813.80763404   388.19236596]\n",
      " [37726.08016474   408.91983526]]\n"
     ]
    }
   ],
   "source": [
    "# Crear una tabla de contingencia entre Month y Cancelled\n",
    "contingency_table = pd.crosstab(data['Month'], data['Cancelled'])\n",
    "\n",
    "# Realizar la prueba Chi-Cuadrada\n",
    "chi2, p, dof, expected = chi2_contingency(contingency_table)\n",
    "\n",
    "# Imprimir los resultados de manera más clara\n",
    "print(\"Chi-Cuadrada - Hipótesis 3 (Month vs Cancelled):\")\n",
    "print(f\"Chi2: {chi2}\")\n",
    "print(f\"p-value: {p}\")\n",
    "print(f\"Grados de libertad: {dof}\")\n",
    "print(\"Frecuencias esperadas:\\n\", expected)"
   ]
  },
  {
   "cell_type": "markdown",
   "metadata": {},
   "source": [
    "H0: El porcentaje de vuelos cancelados (Cancelled) es independiente del mes del año (Month).\n",
    "\n",
    "Resultados de Chi-Cuadrada:\n",
    "\n",
    "Chi2: 416.26\n",
    "p-value: 8.91e-87 (esto es un valor extremadamente pequeño, cercano a 0)\n",
    "Interpretación:\n",
    "\n",
    "El valor p es mucho menor a 0.05, lo que indica que hay una relación significativa entre el mes del año y las cancelaciones.\n",
    "Por lo tanto, rechazamos la hipótesis nula (H0) y concluimos que el porcentaje de vuelos cancelados depende del mes del año."
   ]
  }
 ],
 "metadata": {
  "kernelspec": {
   "display_name": "Python 3",
   "language": "python",
   "name": "python3"
  },
  "language_info": {
   "codemirror_mode": {
    "name": "ipython",
    "version": 3
   },
   "file_extension": ".py",
   "mimetype": "text/x-python",
   "name": "python",
   "nbconvert_exporter": "python",
   "pygments_lexer": "ipython3",
   "version": "3.12.7"
  }
 },
 "nbformat": 4,
 "nbformat_minor": 2
}
