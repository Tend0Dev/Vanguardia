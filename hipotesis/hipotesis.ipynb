{
 "cells": [
  {
   "cell_type": "markdown",
   "metadata": {},
   "source": []
  },
  {
   "cell_type": "code",
   "execution_count": null,
   "metadata": {},
   "outputs": [],
   "source": [
    "import pandas as pd\n",
    "import matplotlib.pyplot as plt\n",
    "import seaborn as sns\n",
    "from scipy import stats\n",
    "import statsmodels.api as sm\n",
    "from statsmodels.formula.api import ols\n",
    "from scipy.stats import chi2_contingency\n",
    "\n",
    "# Cargar los datos\n",
    "data = pd.read_csv('flights.csv')"
   ]
  },
  {
   "cell_type": "markdown",
   "metadata": {},
   "source": [
    "# Hipótesis 1:\n",
    "H0: No hay diferencia significativa en los retrasos de salida (DepDelay) entre las diferentes aerolíneas (Carrier).\n",
    "\n",
    "H1: Hay una diferencia significativa en los retrasos de salida (DepDelay) entre las diferentes aerolíneas (Carrier)."
   ]
  },
  {
   "cell_type": "code",
   "execution_count": null,
   "metadata": {},
   "outputs": [],
   "source": [
    "# ANOVA entre DepDelay y Carrier\n",
    "anova_model1 = ols('DepDelay ~ C(Carrier)', data=data).fit()\n",
    "anova_table1 = sm.stats.anova_lm(anova_model1, typ=2)\n",
    "print(\"ANOVA Resultados - Hipótesis 1 (DepDelay vs Carrier):\\n\", anova_table1)\n"
   ]
  },
  {
   "cell_type": "markdown",
   "metadata": {},
   "source": [
    "## Interpretación:\n",
    "Si el valor p de la prueba ANOVA es menor a 0.05, rechazamos la hipótesis nula, concluyendo que hay diferencias significativas entre los retrasos de salida dependiendo de la aerolínea.\n",
    "Si el valor p es mayor a 0.05, no podemos rechazar la hipótesis nula, es decir, no hay evidencia de diferencias significativas."
   ]
  },
  {
   "cell_type": "markdown",
   "metadata": {},
   "source": [
    "# Hipótesis 2:\n",
    "H0: No hay diferencia significativa en el retraso promedio de llegada (ArrDelay) entre los aeropuertos de origen (OriginAirportID).\n",
    "H1: Hay una diferencia significativa en el retraso promedio de llegada (ArrDelay) entre los aeropuertos de origen (OriginAirportID).\n",
    "\n",
    "Estadístico de prueba: t-Student para dos grupos de aeropuertos principales (o prueba ANOVA si son múltiples grupos)"
   ]
  },
  {
   "cell_type": "code",
   "execution_count": null,
   "metadata": {},
   "outputs": [],
   "source": [
    "# Filtramos dos aeropuertos para aplicar t-Student\n",
    "airport_1 = data[data['OriginAirportID'] == 'XXX']  # Reemplaza con un ID válido\n",
    "airport_2 = data[data['OriginAirportID'] == 'YYY']  # Reemplaza con un ID válido\n",
    "\n",
    "# t-Student entre ArrDelay de dos aeropuertos\n",
    "t_stat, p_value = ttest_ind(airport_1['ArrDelay'], airport_2['ArrDelay'])\n",
    "print(f\"t-Student Resultados - Hipótesis 2 (ArrDelay vs OriginAirportID): t-stat={t_stat}, p-value={p_value}\")\n"
   ]
  },
  {
   "cell_type": "markdown",
   "metadata": {},
   "source": [
    "## Interpretación:\n",
    "Si el valor p es menor a 0.05, rechazamos la hipótesis nula y concluimos que hay diferencias significativas en los retrasos de llegada entre los aeropuertos.\n",
    "Si el valor p es mayor a 0.05, no podemos rechazar la hipótesis nula, es decir, no hay evidencia de diferencias significativas."
   ]
  },
  {
   "cell_type": "markdown",
   "metadata": {},
   "source": [
    "# Hipótesis 3:\n",
    "H0: El porcentaje de vuelos cancelados (Cancelled) es independiente del mes del año (Month).\n",
    "H1: El porcentaje de vuelos cancelados (Cancelled) depende del mes del año (Month).\n",
    "\n",
    "Estadístico de prueba: Chi-Cuadrada"
   ]
  },
  {
   "cell_type": "code",
   "execution_count": null,
   "metadata": {},
   "outputs": [],
   "source": [
    "# Chi-Cuadrada entre Month y Cancelled\n",
    "contingency_table6 = pd.crosstab(data['Month'], data['Cancelled'])\n",
    "chi2_6, p6, dof6, expected6 = chi2_contingency(contingency_table6)\n",
    "print(f\"Chi-Cuadrada - Hipótesis 3 (Month vs Cancelled): chi2={chi2_6}, p-value={p6}\")\n"
   ]
  },
  {
   "cell_type": "markdown",
   "metadata": {},
   "source": [
    "Interpretación:\n",
    "Si el valor p es menor a 0.05, rechazamos la hipótesis nula y concluimos que el porcentaje de vuelos cancelados depende del mes del año.\n",
    "Si el valor p es mayor a 0.05, no podemos rechazar la hipótesis nula, lo que indica que el porcentaje de cancelaciones es independiente del mes."
   ]
  }
 ],
 "metadata": {
  "language_info": {
   "name": "python"
  }
 },
 "nbformat": 4,
 "nbformat_minor": 2
}
