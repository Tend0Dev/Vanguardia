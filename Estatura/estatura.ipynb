{
 "cells": [
  {
   "cell_type": "markdown",
   "metadata": {},
   "source": [
    "# Importaciones"
   ]
  },
  {
   "cell_type": "code",
   "execution_count": 3,
   "metadata": {},
   "outputs": [],
   "source": [
    "import pandas as pd\n",
    "import matplotlib.pyplot as plt\n",
    "import numpy as np\n",
    "%matplotlib inline"
   ]
  },
  {
   "cell_type": "markdown",
   "metadata": {},
   "source": [
    "## jalando archivo"
   ]
  },
  {
   "cell_type": "code",
   "execution_count": 6,
   "metadata": {},
   "outputs": [
    {
     "data": {
      "text/html": [
       "<div>\n",
       "<style scoped>\n",
       "    .dataframe tbody tr th:only-of-type {\n",
       "        vertical-align: middle;\n",
       "    }\n",
       "\n",
       "    .dataframe tbody tr th {\n",
       "        vertical-align: top;\n",
       "    }\n",
       "\n",
       "    .dataframe thead th {\n",
       "        text-align: right;\n",
       "    }\n",
       "</style>\n",
       "<table border=\"1\" class=\"dataframe\">\n",
       "  <thead>\n",
       "    <tr style=\"text-align: right;\">\n",
       "      <th></th>\n",
       "      <th>Nombre</th>\n",
       "      <th>Altura (cm)</th>\n",
       "      <th>Sexo</th>\n",
       "    </tr>\n",
       "  </thead>\n",
       "  <tbody>\n",
       "    <tr>\n",
       "      <th>0</th>\n",
       "      <td>Fer</td>\n",
       "      <td>180</td>\n",
       "      <td>M</td>\n",
       "    </tr>\n",
       "    <tr>\n",
       "      <th>1</th>\n",
       "      <td>Ale</td>\n",
       "      <td>170</td>\n",
       "      <td>M</td>\n",
       "    </tr>\n",
       "    <tr>\n",
       "      <th>2</th>\n",
       "      <td>Alex</td>\n",
       "      <td>170</td>\n",
       "      <td>M</td>\n",
       "    </tr>\n",
       "    <tr>\n",
       "      <th>3</th>\n",
       "      <td>Gael</td>\n",
       "      <td>168</td>\n",
       "      <td>M</td>\n",
       "    </tr>\n",
       "    <tr>\n",
       "      <th>4</th>\n",
       "      <td>Erick</td>\n",
       "      <td>165</td>\n",
       "      <td>M</td>\n",
       "    </tr>\n",
       "  </tbody>\n",
       "</table>\n",
       "</div>"
      ],
      "text/plain": [
       "  Nombre  Altura (cm) Sexo\n",
       "0    Fer          180    M\n",
       "1    Ale          170    M\n",
       "2   Alex          170    M\n",
       "3   Gael          168    M\n",
       "4  Erick          165    M"
      ]
     },
     "execution_count": 6,
     "metadata": {},
     "output_type": "execute_result"
    }
   ],
   "source": [
    "df_estatura = pd.read_csv('Alturas_7mo.csv')\n",
    "df_estatura.head()"
   ]
  },
  {
   "cell_type": "markdown",
   "metadata": {},
   "source": [
    "# Preguntas\n",
    "\n",
    "1. ¿Tienen las estudiantes de 9vo una media diferente de 175 cm?\n",
    "2. ¿Es la desviacion estandar de su estatura igual a o menor que 10 cm?\n",
    "3. Es diferente la estatura promedio de las mujeres comparada de los hombres?\n"
   ]
  },
  {
   "cell_type": "code",
   "execution_count": 12,
   "metadata": {},
   "outputs": [
    {
     "name": "stdout",
     "output_type": "stream",
     "text": [
      "Media de estaturas de mujeres: 171.78571428571428 cm\n",
      "Desviación estándar de estaturas de mujeres: 4.003432593097144 cm\n"
     ]
    }
   ],
   "source": [
    "media_mujeres = df_estatura['Altura (cm)'].mean()\n",
    "print(f'Media de estaturas de mujeres: {media_mujeres} cm')\n",
    "\n",
    "# Pregunta 2: Desviación estándar\n",
    "desviacion_estandar = df_estatura['Altura (cm)'].std()\n",
    "print(f'Desviación estándar de estaturas de mujeres: {desviacion_estandar} cm')"
   ]
  },
  {
   "cell_type": "markdown",
   "metadata": {},
   "source": [
    "## 3. Es diferente la estatura promedio de las mujeres comparada de los hombres?"
   ]
  },
  {
   "cell_type": "code",
   "execution_count": 29,
   "metadata": {},
   "outputs": [
    {
     "name": "stdout",
     "output_type": "stream",
     "text": [
      "Media de estaturas de mujeres: 169.0 cm\n",
      "Media de estaturas de hombres: 172.25 cm\n"
     ]
    },
    {
     "data": {
      "image/png": "[encoded data removed]",
      "text/plain": [
       "<Figure size 1000x500 with 1 Axes>"
      ]
     },
     "metadata": {},
     "output_type": "display_data"
    }
   ],
   "source": [
    "# Pregunta 3: Comparación de estaturas promedio entre mujeres y hombres\n",
    "media_mujeres = df_estatura[df_estatura['Sexo'] == 'F']['Altura (cm)'].mean()\n",
    "media_hombres = df_estatura[df_estatura['Sexo'] == 'M']['Altura (cm)'].mean()\n",
    "\n",
    "conteo_mujeres = df_estatura[df_estatura['Sexo'] == 'F']['Altura (cm)'].count()\n",
    "conteo_hombres = df_estatura[df_estatura['Sexo'] == 'M']['Altura (cm)'].count()\n",
    "\n",
    "\n",
    "\n",
    "# Graficar los datos\n",
    "plt.figure(figsize=(10, 5))\n",
    "\n",
    "# Gráfico de barras para la media de estaturas\n",
    "plt.subplot(1, 2, 1)\n",
    "plt.bar([f'{conteo_mujeres} Mujeres', f'{conteo_hombres} Hombres'], [media_mujeres, media_hombres], color=['pink', 'blue'])\n",
    "plt.title('Estatura Promedio por Sexo')\n",
    "plt.ylabel('Altura (cm)')\n",
    "\n",
    "print(f'Media de estaturas de mujeres: {media_mujeres} cm')\n",
    "print(f'Media de estaturas de hombres: {media_hombres} cm')"
   ]
  },
  {
   "cell_type": "markdown",
   "metadata": {},
   "source": [
    "## Hipotesis de 1,2,3\n",
    "1 la primera prueba que se realizó un prueba T student y se demostró que se rechaza la hipotesis porque esta por debajo del porcentaje de 0.05%\n",
    "2 la segunda prueba que se realizó un prueba T student y se demostró que se NO se rechaza la hipotesis porque esta por encima del porcentaje de 0.05%\n",
    "3 la tercera prueba que se realizó un prueba T student y se demostró que se NO se rechaza la hipotesis porque esta por encima del porcentaje de 0.05%"
   ]
  },
  {
   "cell_type": "code",
   "execution_count": null,
   "metadata": {},
   "outputs": [],
   "source": []
  }
 ],
 "metadata": {
  "kernelspec": {
   "display_name": "Python 3",
   "language": "python",
   "name": "python3"
  },
  "language_info": {
   "codemirror_mode": {
    "name": "ipython",
    "version": 3
   },
   "file_extension": ".py",
   "mimetype": "text/x-python",
   "name": "python",
   "nbconvert_exporter": "python",
   "pygments_lexer": "ipython3",
   "version": "3.12.7"
  }
 },
 "nbformat": 4,
 "nbformat_minor": 2
}
